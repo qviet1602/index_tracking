{
 "cells": [
  {
   "cell_type": "markdown",
   "metadata": {},
   "source": [
    "## Web Scraping"
   ]
  },
  {
   "cell_type": "code",
   "execution_count": 30,
   "metadata": {},
   "outputs": [],
   "source": [
    "import pandas as pd\n",
    "import unicodedata\n",
    "import yfinance as yf"
   ]
  },
  {
   "cell_type": "code",
   "execution_count": 10,
   "metadata": {},
   "outputs": [],
   "source": [
    "# read the Wiki page\n",
    "const_raw = pd.read_html(\"https://en.wikipedia.org/wiki/Dow_Jones_Industrial_Average\")[1]"
   ]
  },
  {
   "cell_type": "code",
   "execution_count": 11,
   "metadata": {},
   "outputs": [
    {
     "data": {
      "text/html": [
       "<div>\n",
       "<style scoped>\n",
       "    .dataframe tbody tr th:only-of-type {\n",
       "        vertical-align: middle;\n",
       "    }\n",
       "\n",
       "    .dataframe tbody tr th {\n",
       "        vertical-align: top;\n",
       "    }\n",
       "\n",
       "    .dataframe thead th {\n",
       "        text-align: right;\n",
       "    }\n",
       "</style>\n",
       "<table border=\"1\" class=\"dataframe\">\n",
       "  <thead>\n",
       "    <tr style=\"text-align: right;\">\n",
       "      <th></th>\n",
       "      <th>Company</th>\n",
       "      <th>Exchange</th>\n",
       "      <th>Symbol</th>\n",
       "      <th>Industry</th>\n",
       "      <th>Date added</th>\n",
       "      <th>Notes</th>\n",
       "      <th>Index weighting</th>\n",
       "    </tr>\n",
       "  </thead>\n",
       "  <tbody>\n",
       "    <tr>\n",
       "      <th>0</th>\n",
       "      <td>3M</td>\n",
       "      <td>NYSE</td>\n",
       "      <td>MMM</td>\n",
       "      <td>Conglomerate</td>\n",
       "      <td>1976-08-09</td>\n",
       "      <td>As Minnesota Mining and Manufacturing</td>\n",
       "      <td>3.84%</td>\n",
       "    </tr>\n",
       "    <tr>\n",
       "      <th>1</th>\n",
       "      <td>American Express</td>\n",
       "      <td>NYSE</td>\n",
       "      <td>AXP</td>\n",
       "      <td>Financial services</td>\n",
       "      <td>1982-08-30</td>\n",
       "      <td>NaN</td>\n",
       "      <td>2.88%</td>\n",
       "    </tr>\n",
       "    <tr>\n",
       "      <th>2</th>\n",
       "      <td>Amgen</td>\n",
       "      <td>NASDAQ</td>\n",
       "      <td>AMGN</td>\n",
       "      <td>Pharmaceutical industry</td>\n",
       "      <td>2020-08-31</td>\n",
       "      <td>NaN</td>\n",
       "      <td>4.87%</td>\n",
       "    </tr>\n",
       "    <tr>\n",
       "      <th>3</th>\n",
       "      <td>Apple Inc.</td>\n",
       "      <td>NASDAQ</td>\n",
       "      <td>AAPL</td>\n",
       "      <td>Information technology</td>\n",
       "      <td>2015-03-19</td>\n",
       "      <td>NaN</td>\n",
       "      <td>2.57%</td>\n",
       "    </tr>\n",
       "    <tr>\n",
       "      <th>4</th>\n",
       "      <td>Boeing</td>\n",
       "      <td>NYSE</td>\n",
       "      <td>BA</td>\n",
       "      <td>Aerospace and defense</td>\n",
       "      <td>1987-03-12</td>\n",
       "      <td>NaN</td>\n",
       "      <td>4.92%</td>\n",
       "    </tr>\n",
       "  </tbody>\n",
       "</table>\n",
       "</div>"
      ],
      "text/plain": [
       "            Company Exchange Symbol                 Industry  Date added  \\\n",
       "0                3M     NYSE    MMM             Conglomerate  1976-08-09   \n",
       "1  American Express     NYSE    AXP       Financial services  1982-08-30   \n",
       "2             Amgen   NASDAQ   AMGN  Pharmaceutical industry  2020-08-31   \n",
       "3        Apple Inc.   NASDAQ   AAPL   Information technology  2015-03-19   \n",
       "4            Boeing     NYSE     BA    Aerospace and defense  1987-03-12   \n",
       "\n",
       "                                   Notes Index weighting  \n",
       "0  As Minnesota Mining and Manufacturing           3.84%  \n",
       "1                                    NaN           2.88%  \n",
       "2                                    NaN           4.87%  \n",
       "3                                    NaN           2.57%  \n",
       "4                                    NaN           4.92%  "
      ]
     },
     "execution_count": 11,
     "metadata": {},
     "output_type": "execute_result"
    }
   ],
   "source": [
    "const_raw.head()"
   ]
  },
  {
   "cell_type": "code",
   "execution_count": 12,
   "metadata": {},
   "outputs": [
    {
     "data": {
      "text/html": [
       "<div>\n",
       "<style scoped>\n",
       "    .dataframe tbody tr th:only-of-type {\n",
       "        vertical-align: middle;\n",
       "    }\n",
       "\n",
       "    .dataframe tbody tr th {\n",
       "        vertical-align: top;\n",
       "    }\n",
       "\n",
       "    .dataframe thead th {\n",
       "        text-align: right;\n",
       "    }\n",
       "</style>\n",
       "<table border=\"1\" class=\"dataframe\">\n",
       "  <thead>\n",
       "    <tr style=\"text-align: right;\">\n",
       "      <th></th>\n",
       "      <th>Company</th>\n",
       "      <th>Exchange</th>\n",
       "      <th>Symbol</th>\n",
       "      <th>Industry</th>\n",
       "      <th>Date added</th>\n",
       "    </tr>\n",
       "  </thead>\n",
       "  <tbody>\n",
       "    <tr>\n",
       "      <th>0</th>\n",
       "      <td>3M</td>\n",
       "      <td>NYSE</td>\n",
       "      <td>MMM</td>\n",
       "      <td>Conglomerate</td>\n",
       "      <td>1976-08-09</td>\n",
       "    </tr>\n",
       "    <tr>\n",
       "      <th>1</th>\n",
       "      <td>American Express</td>\n",
       "      <td>NYSE</td>\n",
       "      <td>AXP</td>\n",
       "      <td>Financial services</td>\n",
       "      <td>1982-08-30</td>\n",
       "    </tr>\n",
       "    <tr>\n",
       "      <th>2</th>\n",
       "      <td>Amgen</td>\n",
       "      <td>NASDAQ</td>\n",
       "      <td>AMGN</td>\n",
       "      <td>Pharmaceutical industry</td>\n",
       "      <td>2020-08-31</td>\n",
       "    </tr>\n",
       "    <tr>\n",
       "      <th>3</th>\n",
       "      <td>Apple Inc.</td>\n",
       "      <td>NASDAQ</td>\n",
       "      <td>AAPL</td>\n",
       "      <td>Information technology</td>\n",
       "      <td>2015-03-19</td>\n",
       "    </tr>\n",
       "    <tr>\n",
       "      <th>4</th>\n",
       "      <td>Boeing</td>\n",
       "      <td>NYSE</td>\n",
       "      <td>BA</td>\n",
       "      <td>Aerospace and defense</td>\n",
       "      <td>1987-03-12</td>\n",
       "    </tr>\n",
       "  </tbody>\n",
       "</table>\n",
       "</div>"
      ],
      "text/plain": [
       "            Company Exchange Symbol                 Industry  Date added\n",
       "0                3M     NYSE    MMM             Conglomerate  1976-08-09\n",
       "1  American Express     NYSE    AXP       Financial services  1982-08-30\n",
       "2             Amgen   NASDAQ   AMGN  Pharmaceutical industry  2020-08-31\n",
       "3        Apple Inc.   NASDAQ   AAPL   Information technology  2015-03-19\n",
       "4            Boeing     NYSE     BA    Aerospace and defense  1987-03-12"
      ]
     },
     "execution_count": 12,
     "metadata": {},
     "output_type": "execute_result"
    }
   ],
   "source": [
    "const = const_raw.iloc[:, :5].copy()\n",
    "const.head()"
   ]
  },
  {
   "cell_type": "code",
   "execution_count": 13,
   "metadata": {},
   "outputs": [
    {
     "data": {
      "text/html": [
       "<div>\n",
       "<style scoped>\n",
       "    .dataframe tbody tr th:only-of-type {\n",
       "        vertical-align: middle;\n",
       "    }\n",
       "\n",
       "    .dataframe tbody tr th {\n",
       "        vertical-align: top;\n",
       "    }\n",
       "\n",
       "    .dataframe thead th {\n",
       "        text-align: right;\n",
       "    }\n",
       "</style>\n",
       "<table border=\"1\" class=\"dataframe\">\n",
       "  <thead>\n",
       "    <tr style=\"text-align: right;\">\n",
       "      <th></th>\n",
       "      <th>Company</th>\n",
       "      <th>Exchange</th>\n",
       "      <th>Symbol</th>\n",
       "      <th>Industry</th>\n",
       "      <th>Date_Added</th>\n",
       "    </tr>\n",
       "  </thead>\n",
       "  <tbody>\n",
       "    <tr>\n",
       "      <th>0</th>\n",
       "      <td>3M</td>\n",
       "      <td>NYSE</td>\n",
       "      <td>MMM</td>\n",
       "      <td>Conglomerate</td>\n",
       "      <td>1976-08-09</td>\n",
       "    </tr>\n",
       "    <tr>\n",
       "      <th>1</th>\n",
       "      <td>American Express</td>\n",
       "      <td>NYSE</td>\n",
       "      <td>AXP</td>\n",
       "      <td>Financial services</td>\n",
       "      <td>1982-08-30</td>\n",
       "    </tr>\n",
       "    <tr>\n",
       "      <th>2</th>\n",
       "      <td>Amgen</td>\n",
       "      <td>NASDAQ</td>\n",
       "      <td>AMGN</td>\n",
       "      <td>Pharmaceutical industry</td>\n",
       "      <td>2020-08-31</td>\n",
       "    </tr>\n",
       "    <tr>\n",
       "      <th>3</th>\n",
       "      <td>Apple Inc.</td>\n",
       "      <td>NASDAQ</td>\n",
       "      <td>AAPL</td>\n",
       "      <td>Information technology</td>\n",
       "      <td>2015-03-19</td>\n",
       "    </tr>\n",
       "    <tr>\n",
       "      <th>4</th>\n",
       "      <td>Boeing</td>\n",
       "      <td>NYSE</td>\n",
       "      <td>BA</td>\n",
       "      <td>Aerospace and defense</td>\n",
       "      <td>1987-03-12</td>\n",
       "    </tr>\n",
       "  </tbody>\n",
       "</table>\n",
       "</div>"
      ],
      "text/plain": [
       "            Company Exchange Symbol                 Industry  Date_Added\n",
       "0                3M     NYSE    MMM             Conglomerate  1976-08-09\n",
       "1  American Express     NYSE    AXP       Financial services  1982-08-30\n",
       "2             Amgen   NASDAQ   AMGN  Pharmaceutical industry  2020-08-31\n",
       "3        Apple Inc.   NASDAQ   AAPL   Information technology  2015-03-19\n",
       "4            Boeing     NYSE     BA    Aerospace and defense  1987-03-12"
      ]
     },
     "execution_count": 13,
     "metadata": {},
     "output_type": "execute_result"
    }
   ],
   "source": [
    "const.rename(columns = {\"Date added\":\"Date_Added\"}, inplace = True)\n",
    "const.head()"
   ]
  },
  {
   "cell_type": "code",
   "execution_count": 15,
   "metadata": {},
   "outputs": [],
   "source": [
    "const['Date_Added'] = pd.to_datetime(const.Date_Added)"
   ]
  },
  {
   "cell_type": "code",
   "execution_count": 16,
   "metadata": {},
   "outputs": [
    {
     "name": "stdout",
     "output_type": "stream",
     "text": [
      "<class 'pandas.core.frame.DataFrame'>\n",
      "RangeIndex: 30 entries, 0 to 29\n",
      "Data columns (total 5 columns):\n",
      " #   Column      Non-Null Count  Dtype         \n",
      "---  ------      --------------  -----         \n",
      " 0   Company     30 non-null     object        \n",
      " 1   Exchange    30 non-null     object        \n",
      " 2   Symbol      30 non-null     object        \n",
      " 3   Industry    30 non-null     object        \n",
      " 4   Date_Added  30 non-null     datetime64[ns]\n",
      "dtypes: datetime64[ns](1), object(4)\n",
      "memory usage: 1.3+ KB\n"
     ]
    }
   ],
   "source": [
    "const.info()"
   ]
  },
  {
   "cell_type": "markdown",
   "metadata": {},
   "source": [
    "## Normalizing Unicode Strings and Getting the Ticker Symbols"
   ]
  },
  {
   "cell_type": "code",
   "execution_count": 21,
   "metadata": {},
   "outputs": [],
   "source": [
    "import unicodedata"
   ]
  },
  {
   "cell_type": "code",
   "execution_count": 23,
   "metadata": {},
   "outputs": [
    {
     "data": {
      "text/plain": [
       "'AXP'"
      ]
     },
     "execution_count": 23,
     "metadata": {},
     "output_type": "execute_result"
    }
   ],
   "source": [
    "const.Symbol[1]"
   ]
  },
  {
   "cell_type": "code",
   "execution_count": 18,
   "metadata": {},
   "outputs": [
    {
     "data": {
      "text/plain": [
       "['MMM',\n",
       " 'AXP',\n",
       " 'AMGN',\n",
       " 'AAPL',\n",
       " 'BA',\n",
       " 'CAT',\n",
       " 'CVX',\n",
       " 'CSCO',\n",
       " 'KO',\n",
       " 'DOW',\n",
       " 'GS',\n",
       " 'HD',\n",
       " 'HON',\n",
       " 'IBM',\n",
       " 'INTC',\n",
       " 'JNJ',\n",
       " 'JPM',\n",
       " 'MCD',\n",
       " 'MRK',\n",
       " 'MSFT',\n",
       " 'NKE',\n",
       " 'PG',\n",
       " 'CRM',\n",
       " 'TRV',\n",
       " 'UNH',\n",
       " 'VZ',\n",
       " 'V',\n",
       " 'WBA',\n",
       " 'WMT',\n",
       " 'DIS']"
      ]
     },
     "execution_count": 18,
     "metadata": {},
     "output_type": "execute_result"
    }
   ],
   "source": [
    "const.Symbol.to_list()"
   ]
  },
  {
   "cell_type": "code",
   "execution_count": 19,
   "metadata": {},
   "outputs": [
    {
     "name": "stdout",
     "output_type": "stream",
     "text": [
      "<class 'pandas.core.frame.DataFrame'>\n",
      "RangeIndex: 30 entries, 0 to 29\n",
      "Data columns (total 5 columns):\n",
      " #   Column      Non-Null Count  Dtype         \n",
      "---  ------      --------------  -----         \n",
      " 0   Company     30 non-null     object        \n",
      " 1   Exchange    30 non-null     object        \n",
      " 2   Symbol      30 non-null     object        \n",
      " 3   Industry    30 non-null     object        \n",
      " 4   Date_Added  30 non-null     datetime64[ns]\n",
      "dtypes: datetime64[ns](1), object(4)\n",
      "memory usage: 1.3+ KB\n"
     ]
    }
   ],
   "source": [
    "const.info()"
   ]
  },
  {
   "cell_type": "code",
   "execution_count": 22,
   "metadata": {},
   "outputs": [
    {
     "data": {
      "text/plain": [
       "0      MMM\n",
       "1      AXP\n",
       "2     AMGN\n",
       "3     AAPL\n",
       "4       BA\n",
       "5      CAT\n",
       "6      CVX\n",
       "7     CSCO\n",
       "8       KO\n",
       "9      DOW\n",
       "10      GS\n",
       "11      HD\n",
       "12     HON\n",
       "13     IBM\n",
       "14    INTC\n",
       "15     JNJ\n",
       "16     JPM\n",
       "17     MCD\n",
       "18     MRK\n",
       "19    MSFT\n",
       "20     NKE\n",
       "21      PG\n",
       "22     CRM\n",
       "23     TRV\n",
       "24     UNH\n",
       "25      VZ\n",
       "26       V\n",
       "27     WBA\n",
       "28     WMT\n",
       "29     DIS\n",
       "Name: Symbol, dtype: object"
      ]
     },
     "execution_count": 22,
     "metadata": {},
     "output_type": "execute_result"
    }
   ],
   "source": [
    "const.Symbol.apply(lambda x: unicodedata.normalize(\"NFKD\", x))"
   ]
  },
  {
   "cell_type": "code",
   "execution_count": 24,
   "metadata": {},
   "outputs": [],
   "source": [
    "const.Symbol = const.Symbol.apply(lambda x: unicodedata.normalize(\"NFKD\", x))"
   ]
  },
  {
   "cell_type": "code",
   "execution_count": 25,
   "metadata": {},
   "outputs": [],
   "source": [
    "const[\"Ticker\"] = const.Symbol.str.split(\": \").apply(lambda x: x[-1])"
   ]
  },
  {
   "cell_type": "code",
   "execution_count": 27,
   "metadata": {},
   "outputs": [],
   "source": [
    "ticker_list = const.Ticker.to_list()"
   ]
  },
  {
   "cell_type": "code",
   "execution_count": 28,
   "metadata": {},
   "outputs": [],
   "source": [
    "const.to_csv(\"const.csv\", index = False)"
   ]
  },
  {
   "cell_type": "markdown",
   "metadata": {},
   "source": [
    "## Loading and Saving Historical Stock Prices"
   ]
  },
  {
   "cell_type": "code",
   "execution_count": 31,
   "metadata": {},
   "outputs": [
    {
     "name": "stdout",
     "output_type": "stream",
     "text": [
      "[*********************100%***********************]  30 of 30 completed\n"
     ]
    }
   ],
   "source": [
    "prices = yf.download(ticker_list, start = \"2007-01-01\", end = \"2020-03-31\")"
   ]
  },
  {
   "cell_type": "code",
   "execution_count": 32,
   "metadata": {},
   "outputs": [
    {
     "data": {
      "text/html": [
       "<div>\n",
       "<style scoped>\n",
       "    .dataframe tbody tr th:only-of-type {\n",
       "        vertical-align: middle;\n",
       "    }\n",
       "\n",
       "    .dataframe tbody tr th {\n",
       "        vertical-align: top;\n",
       "    }\n",
       "\n",
       "    .dataframe thead tr th {\n",
       "        text-align: left;\n",
       "    }\n",
       "\n",
       "    .dataframe thead tr:last-of-type th {\n",
       "        text-align: right;\n",
       "    }\n",
       "</style>\n",
       "<table border=\"1\" class=\"dataframe\">\n",
       "  <thead>\n",
       "    <tr>\n",
       "      <th></th>\n",
       "      <th colspan=\"10\" halign=\"left\">Adj Close</th>\n",
       "      <th>...</th>\n",
       "      <th colspan=\"10\" halign=\"left\">Volume</th>\n",
       "    </tr>\n",
       "    <tr>\n",
       "      <th></th>\n",
       "      <th>AAPL</th>\n",
       "      <th>AMGN</th>\n",
       "      <th>AXP</th>\n",
       "      <th>BA</th>\n",
       "      <th>CAT</th>\n",
       "      <th>CRM</th>\n",
       "      <th>CSCO</th>\n",
       "      <th>CVX</th>\n",
       "      <th>DIS</th>\n",
       "      <th>DOW</th>\n",
       "      <th>...</th>\n",
       "      <th>MRK</th>\n",
       "      <th>MSFT</th>\n",
       "      <th>NKE</th>\n",
       "      <th>PG</th>\n",
       "      <th>TRV</th>\n",
       "      <th>UNH</th>\n",
       "      <th>V</th>\n",
       "      <th>VZ</th>\n",
       "      <th>WBA</th>\n",
       "      <th>WMT</th>\n",
       "    </tr>\n",
       "    <tr>\n",
       "      <th>Date</th>\n",
       "      <th></th>\n",
       "      <th></th>\n",
       "      <th></th>\n",
       "      <th></th>\n",
       "      <th></th>\n",
       "      <th></th>\n",
       "      <th></th>\n",
       "      <th></th>\n",
       "      <th></th>\n",
       "      <th></th>\n",
       "      <th></th>\n",
       "      <th></th>\n",
       "      <th></th>\n",
       "      <th></th>\n",
       "      <th></th>\n",
       "      <th></th>\n",
       "      <th></th>\n",
       "      <th></th>\n",
       "      <th></th>\n",
       "      <th></th>\n",
       "      <th></th>\n",
       "    </tr>\n",
       "  </thead>\n",
       "  <tbody>\n",
       "    <tr>\n",
       "      <th>2007-01-03</th>\n",
       "      <td>2.573566</td>\n",
       "      <td>54.126312</td>\n",
       "      <td>47.838795</td>\n",
       "      <td>64.405731</td>\n",
       "      <td>40.944595</td>\n",
       "      <td>9.0175</td>\n",
       "      <td>20.589767</td>\n",
       "      <td>41.455723</td>\n",
       "      <td>28.317101</td>\n",
       "      <td>NaN</td>\n",
       "      <td>...</td>\n",
       "      <td>15019300</td>\n",
       "      <td>76935100</td>\n",
       "      <td>17299200</td>\n",
       "      <td>9717900</td>\n",
       "      <td>3432800</td>\n",
       "      <td>8360300</td>\n",
       "      <td>NaN</td>\n",
       "      <td>21445850</td>\n",
       "      <td>6294500</td>\n",
       "      <td>35687300</td>\n",
       "    </tr>\n",
       "    <tr>\n",
       "      <th>2007-01-04</th>\n",
       "      <td>2.630688</td>\n",
       "      <td>56.444851</td>\n",
       "      <td>47.490051</td>\n",
       "      <td>64.665741</td>\n",
       "      <td>40.837482</td>\n",
       "      <td>9.4700</td>\n",
       "      <td>21.131788</td>\n",
       "      <td>41.052643</td>\n",
       "      <td>28.540649</td>\n",
       "      <td>NaN</td>\n",
       "      <td>...</td>\n",
       "      <td>12515200</td>\n",
       "      <td>45774500</td>\n",
       "      <td>15085600</td>\n",
       "      <td>8711400</td>\n",
       "      <td>2068200</td>\n",
       "      <td>5152500</td>\n",
       "      <td>NaN</td>\n",
       "      <td>19215860</td>\n",
       "      <td>3681800</td>\n",
       "      <td>17073000</td>\n",
       "    </tr>\n",
       "    <tr>\n",
       "      <th>2007-01-05</th>\n",
       "      <td>2.611954</td>\n",
       "      <td>56.579399</td>\n",
       "      <td>46.863956</td>\n",
       "      <td>64.391273</td>\n",
       "      <td>40.315292</td>\n",
       "      <td>9.8800</td>\n",
       "      <td>21.139219</td>\n",
       "      <td>41.210381</td>\n",
       "      <td>28.308815</td>\n",
       "      <td>NaN</td>\n",
       "      <td>...</td>\n",
       "      <td>10656900</td>\n",
       "      <td>44607200</td>\n",
       "      <td>14996800</td>\n",
       "      <td>9907900</td>\n",
       "      <td>2104600</td>\n",
       "      <td>6215700</td>\n",
       "      <td>NaN</td>\n",
       "      <td>19047041</td>\n",
       "      <td>3680900</td>\n",
       "      <td>13556900</td>\n",
       "    </tr>\n",
       "    <tr>\n",
       "      <th>2007-01-08</th>\n",
       "      <td>2.624853</td>\n",
       "      <td>56.128361</td>\n",
       "      <td>47.307781</td>\n",
       "      <td>64.239609</td>\n",
       "      <td>40.362164</td>\n",
       "      <td>9.9825</td>\n",
       "      <td>21.258024</td>\n",
       "      <td>41.736099</td>\n",
       "      <td>28.565489</td>\n",
       "      <td>NaN</td>\n",
       "      <td>...</td>\n",
       "      <td>7046300</td>\n",
       "      <td>50220200</td>\n",
       "      <td>10109600</td>\n",
       "      <td>11068200</td>\n",
       "      <td>2440900</td>\n",
       "      <td>4344100</td>\n",
       "      <td>NaN</td>\n",
       "      <td>20370917</td>\n",
       "      <td>4720800</td>\n",
       "      <td>16396400</td>\n",
       "    </tr>\n",
       "    <tr>\n",
       "      <th>2007-01-09</th>\n",
       "      <td>2.842900</td>\n",
       "      <td>56.397388</td>\n",
       "      <td>47.006588</td>\n",
       "      <td>63.560661</td>\n",
       "      <td>40.583073</td>\n",
       "      <td>9.9900</td>\n",
       "      <td>21.139219</td>\n",
       "      <td>41.257103</td>\n",
       "      <td>28.524090</td>\n",
       "      <td>NaN</td>\n",
       "      <td>...</td>\n",
       "      <td>8623200</td>\n",
       "      <td>44636600</td>\n",
       "      <td>15167200</td>\n",
       "      <td>10823800</td>\n",
       "      <td>1319500</td>\n",
       "      <td>5483900</td>\n",
       "      <td>NaN</td>\n",
       "      <td>16281352</td>\n",
       "      <td>3792500</td>\n",
       "      <td>14643200</td>\n",
       "    </tr>\n",
       "  </tbody>\n",
       "</table>\n",
       "<p>5 rows × 180 columns</p>\n",
       "</div>"
      ],
      "text/plain": [
       "           Adj Close                                                      \\\n",
       "                AAPL       AMGN        AXP         BA        CAT     CRM   \n",
       "Date                                                                       \n",
       "2007-01-03  2.573566  54.126312  47.838795  64.405731  40.944595  9.0175   \n",
       "2007-01-04  2.630688  56.444851  47.490051  64.665741  40.837482  9.4700   \n",
       "2007-01-05  2.611954  56.579399  46.863956  64.391273  40.315292  9.8800   \n",
       "2007-01-08  2.624853  56.128361  47.307781  64.239609  40.362164  9.9825   \n",
       "2007-01-09  2.842900  56.397388  47.006588  63.560661  40.583073  9.9900   \n",
       "\n",
       "                                                 ...    Volume            \\\n",
       "                 CSCO        CVX        DIS DOW  ...       MRK      MSFT   \n",
       "Date                                             ...                       \n",
       "2007-01-03  20.589767  41.455723  28.317101 NaN  ...  15019300  76935100   \n",
       "2007-01-04  21.131788  41.052643  28.540649 NaN  ...  12515200  45774500   \n",
       "2007-01-05  21.139219  41.210381  28.308815 NaN  ...  10656900  44607200   \n",
       "2007-01-08  21.258024  41.736099  28.565489 NaN  ...   7046300  50220200   \n",
       "2007-01-09  21.139219  41.257103  28.524090 NaN  ...   8623200  44636600   \n",
       "\n",
       "                                                                         \\\n",
       "                 NKE        PG      TRV      UNH   V        VZ      WBA   \n",
       "Date                                                                      \n",
       "2007-01-03  17299200   9717900  3432800  8360300 NaN  21445850  6294500   \n",
       "2007-01-04  15085600   8711400  2068200  5152500 NaN  19215860  3681800   \n",
       "2007-01-05  14996800   9907900  2104600  6215700 NaN  19047041  3680900   \n",
       "2007-01-08  10109600  11068200  2440900  4344100 NaN  20370917  4720800   \n",
       "2007-01-09  15167200  10823800  1319500  5483900 NaN  16281352  3792500   \n",
       "\n",
       "                      \n",
       "                 WMT  \n",
       "Date                  \n",
       "2007-01-03  35687300  \n",
       "2007-01-04  17073000  \n",
       "2007-01-05  13556900  \n",
       "2007-01-08  16396400  \n",
       "2007-01-09  14643200  \n",
       "\n",
       "[5 rows x 180 columns]"
      ]
     },
     "execution_count": 32,
     "metadata": {},
     "output_type": "execute_result"
    }
   ],
   "source": [
    "prices.head()"
   ]
  },
  {
   "cell_type": "code",
   "execution_count": 33,
   "metadata": {},
   "outputs": [
    {
     "name": "stdout",
     "output_type": "stream",
     "text": [
      "<class 'pandas.core.frame.DataFrame'>\n",
      "DatetimeIndex: 3333 entries, 2007-01-03 to 2020-03-30\n",
      "Columns: 180 entries, ('Adj Close', 'AAPL') to ('Volume', 'WMT')\n",
      "dtypes: float64(152), int64(28)\n",
      "memory usage: 4.6 MB\n"
     ]
    }
   ],
   "source": [
    "prices.info()"
   ]
  },
  {
   "cell_type": "code",
   "execution_count": 34,
   "metadata": {},
   "outputs": [],
   "source": [
    "prices = prices.loc[:,\"Close\"].copy()"
   ]
  },
  {
   "cell_type": "code",
   "execution_count": 35,
   "metadata": {},
   "outputs": [
    {
     "name": "stdout",
     "output_type": "stream",
     "text": [
      "<class 'pandas.core.frame.DataFrame'>\n",
      "DatetimeIndex: 3333 entries, 2007-01-03 to 2020-03-30\n",
      "Data columns (total 30 columns):\n",
      " #   Column  Non-Null Count  Dtype  \n",
      "---  ------  --------------  -----  \n",
      " 0   AAPL    3333 non-null   float64\n",
      " 1   AMGN    3333 non-null   float64\n",
      " 2   AXP     3333 non-null   float64\n",
      " 3   BA      3333 non-null   float64\n",
      " 4   CAT     3333 non-null   float64\n",
      " 5   CRM     3333 non-null   float64\n",
      " 6   CSCO    3333 non-null   float64\n",
      " 7   CVX     3333 non-null   float64\n",
      " 8   DIS     3333 non-null   float64\n",
      " 9   DOW     260 non-null    float64\n",
      " 10  GS      3333 non-null   float64\n",
      " 11  HD      3333 non-null   float64\n",
      " 12  HON     3333 non-null   float64\n",
      " 13  IBM     3333 non-null   float64\n",
      " 14  INTC    3333 non-null   float64\n",
      " 15  JNJ     3333 non-null   float64\n",
      " 16  JPM     3333 non-null   float64\n",
      " 17  KO      3333 non-null   float64\n",
      " 18  MCD     3333 non-null   float64\n",
      " 19  MMM     3333 non-null   float64\n",
      " 20  MRK     3333 non-null   float64\n",
      " 21  MSFT    3333 non-null   float64\n",
      " 22  NKE     3333 non-null   float64\n",
      " 23  PG      3333 non-null   float64\n",
      " 24  TRV     3333 non-null   float64\n",
      " 25  UNH     3333 non-null   float64\n",
      " 26  V       3029 non-null   float64\n",
      " 27  VZ      3333 non-null   float64\n",
      " 28  WBA     3333 non-null   float64\n",
      " 29  WMT     3333 non-null   float64\n",
      "dtypes: float64(30)\n",
      "memory usage: 807.2 KB\n"
     ]
    }
   ],
   "source": [
    "prices.info()"
   ]
  },
  {
   "cell_type": "code",
   "execution_count": 36,
   "metadata": {},
   "outputs": [],
   "source": [
    "prices.to_csv(\"const_prices.csv\")"
   ]
  },
  {
   "cell_type": "code",
   "execution_count": 37,
   "metadata": {},
   "outputs": [
    {
     "name": "stdout",
     "output_type": "stream",
     "text": [
      "[*********************100%***********************]  1 of 1 completed\n"
     ]
    }
   ],
   "source": [
    "dji = yf.download(\"^DJI\", start = \"2007-01-01\",  end = \"2020-03-31\")"
   ]
  },
  {
   "cell_type": "code",
   "execution_count": 38,
   "metadata": {},
   "outputs": [
    {
     "data": {
      "text/html": [
       "<div>\n",
       "<style scoped>\n",
       "    .dataframe tbody tr th:only-of-type {\n",
       "        vertical-align: middle;\n",
       "    }\n",
       "\n",
       "    .dataframe tbody tr th {\n",
       "        vertical-align: top;\n",
       "    }\n",
       "\n",
       "    .dataframe thead th {\n",
       "        text-align: right;\n",
       "    }\n",
       "</style>\n",
       "<table border=\"1\" class=\"dataframe\">\n",
       "  <thead>\n",
       "    <tr style=\"text-align: right;\">\n",
       "      <th></th>\n",
       "      <th>Open</th>\n",
       "      <th>High</th>\n",
       "      <th>Low</th>\n",
       "      <th>Close</th>\n",
       "      <th>Adj Close</th>\n",
       "      <th>Volume</th>\n",
       "    </tr>\n",
       "    <tr>\n",
       "      <th>Date</th>\n",
       "      <th></th>\n",
       "      <th></th>\n",
       "      <th></th>\n",
       "      <th></th>\n",
       "      <th></th>\n",
       "      <th></th>\n",
       "    </tr>\n",
       "  </thead>\n",
       "  <tbody>\n",
       "    <tr>\n",
       "      <th>2007-01-03</th>\n",
       "      <td>12459.540039</td>\n",
       "      <td>12580.349609</td>\n",
       "      <td>12404.820312</td>\n",
       "      <td>12474.519531</td>\n",
       "      <td>12474.519531</td>\n",
       "      <td>3272000</td>\n",
       "    </tr>\n",
       "    <tr>\n",
       "      <th>2007-01-04</th>\n",
       "      <td>12473.160156</td>\n",
       "      <td>12510.410156</td>\n",
       "      <td>12403.860352</td>\n",
       "      <td>12480.690430</td>\n",
       "      <td>12480.690430</td>\n",
       "      <td>2590600</td>\n",
       "    </tr>\n",
       "    <tr>\n",
       "      <th>2007-01-05</th>\n",
       "      <td>12480.049805</td>\n",
       "      <td>12480.129883</td>\n",
       "      <td>12365.410156</td>\n",
       "      <td>12398.009766</td>\n",
       "      <td>12398.009766</td>\n",
       "      <td>2352200</td>\n",
       "    </tr>\n",
       "    <tr>\n",
       "      <th>2007-01-08</th>\n",
       "      <td>12392.009766</td>\n",
       "      <td>12445.919922</td>\n",
       "      <td>12337.370117</td>\n",
       "      <td>12423.490234</td>\n",
       "      <td>12423.490234</td>\n",
       "      <td>2235000</td>\n",
       "    </tr>\n",
       "    <tr>\n",
       "      <th>2007-01-09</th>\n",
       "      <td>12424.769531</td>\n",
       "      <td>12466.429688</td>\n",
       "      <td>12369.169922</td>\n",
       "      <td>12416.599609</td>\n",
       "      <td>12416.599609</td>\n",
       "      <td>2251900</td>\n",
       "    </tr>\n",
       "  </tbody>\n",
       "</table>\n",
       "</div>"
      ],
      "text/plain": [
       "                    Open          High           Low         Close  \\\n",
       "Date                                                                 \n",
       "2007-01-03  12459.540039  12580.349609  12404.820312  12474.519531   \n",
       "2007-01-04  12473.160156  12510.410156  12403.860352  12480.690430   \n",
       "2007-01-05  12480.049805  12480.129883  12365.410156  12398.009766   \n",
       "2007-01-08  12392.009766  12445.919922  12337.370117  12423.490234   \n",
       "2007-01-09  12424.769531  12466.429688  12369.169922  12416.599609   \n",
       "\n",
       "               Adj Close   Volume  \n",
       "Date                               \n",
       "2007-01-03  12474.519531  3272000  \n",
       "2007-01-04  12480.690430  2590600  \n",
       "2007-01-05  12398.009766  2352200  \n",
       "2007-01-08  12423.490234  2235000  \n",
       "2007-01-09  12416.599609  2251900  "
      ]
     },
     "execution_count": 38,
     "metadata": {},
     "output_type": "execute_result"
    }
   ],
   "source": [
    "dji.head()"
   ]
  },
  {
   "cell_type": "code",
   "execution_count": 39,
   "metadata": {},
   "outputs": [],
   "source": [
    "dji.to_csv(\"dji.csv\")"
   ]
  },
  {
   "cell_type": "code",
   "execution_count": 40,
   "metadata": {},
   "outputs": [],
   "source": [
    "dji.to_csv(\"dji.csv\")"
   ]
  },
  {
   "cell_type": "code",
   "execution_count": null,
   "metadata": {},
   "outputs": [],
   "source": []
  }
 ],
 "metadata": {
  "kernelspec": {
   "display_name": "Python 3",
   "language": "python",
   "name": "python3"
  },
  "language_info": {
   "codemirror_mode": {
    "name": "ipython",
    "version": 3
   },
   "file_extension": ".py",
   "mimetype": "text/x-python",
   "name": "python",
   "nbconvert_exporter": "python",
   "pygments_lexer": "ipython3",
   "version": "3.7.3"
  }
 },
 "nbformat": 4,
 "nbformat_minor": 2
}
